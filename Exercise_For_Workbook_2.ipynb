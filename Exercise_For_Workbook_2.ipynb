{
  "nbformat": 4,
  "nbformat_minor": 0,
  "metadata": {
    "colab": {
      "provenance": []
    },
    "kernelspec": {
      "name": "python3",
      "display_name": "Python 3"
    },
    "language_info": {
      "name": "python"
    }
  },
  "cells": [
    {
      "cell_type": "markdown",
      "source": [
        "Use of split & chunk function"
      ],
      "metadata": {
        "id": "kdrEamttRWAQ"
      }
    },
    {
      "cell_type": "code",
      "source": [
        "import torch\n",
        "\n",
        "import numpy as np"
      ],
      "metadata": {
        "id": "fqJVmFa8OY7e"
      },
      "execution_count": 1,
      "outputs": []
    },
    {
      "cell_type": "code",
      "source": [
        "def split_x_into_chunks(x):\n",
        "  return x.chunk(chunks=4, dim=0)\n",
        "\n",
        "def split_y_into_chunks(x):\n",
        "  return x.chunk(chunks=4)\n",
        "\n",
        "def split_x_using_split(x):\n",
        "  return x.split([5,3], dim=0)\n",
        "\n",
        "def split_y_using_split(x):\n",
        "  return x.split([4,6,6])\n",
        "\n",
        "\n",
        "\n",
        "x=torch.full((8,5),10)\n",
        "y=torch.arange(16)\n",
        "t1=split_x_into_chunks(x)\n",
        "t2=split_y_into_chunks(y)\n",
        "t3=split_x_using_split(x)\n",
        "t4=split_y_using_split(y)\n",
        "\n",
        "print(t1)\n",
        "print(t2)\n",
        "print(t3)\n",
        "print(t4)"
      ],
      "metadata": {
        "colab": {
          "base_uri": "https://localhost:8080/"
        },
        "id": "pcHcy_cqxBYa",
        "outputId": "7c1f4c06-1b0e-43f7-b2d0-298048090624"
      },
      "execution_count": 14,
      "outputs": [
        {
          "output_type": "stream",
          "name": "stdout",
          "text": [
            "(tensor([[10, 10, 10, 10, 10],\n",
            "        [10, 10, 10, 10, 10]]), tensor([[10, 10, 10, 10, 10],\n",
            "        [10, 10, 10, 10, 10]]), tensor([[10, 10, 10, 10, 10],\n",
            "        [10, 10, 10, 10, 10]]), tensor([[10, 10, 10, 10, 10],\n",
            "        [10, 10, 10, 10, 10]]))\n",
            "(tensor([0, 1, 2, 3]), tensor([4, 5, 6, 7]), tensor([ 8,  9, 10, 11]), tensor([12, 13, 14, 15]))\n",
            "(tensor([[10, 10, 10, 10, 10],\n",
            "        [10, 10, 10, 10, 10],\n",
            "        [10, 10, 10, 10, 10],\n",
            "        [10, 10, 10, 10, 10],\n",
            "        [10, 10, 10, 10, 10]]), tensor([[10, 10, 10, 10, 10],\n",
            "        [10, 10, 10, 10, 10],\n",
            "        [10, 10, 10, 10, 10]]))\n",
            "(tensor([0, 1, 2, 3]), tensor([4, 5, 6, 7, 8, 9]), tensor([10, 11, 12, 13, 14, 15]))\n"
          ]
        }
      ]
    },
    {
      "cell_type": "code",
      "source": [
        "y=torch.tensor(16)\n",
        "y.dim"
      ],
      "metadata": {
        "colab": {
          "base_uri": "https://localhost:8080/"
        },
        "id": "schAuZWXQPxD",
        "outputId": "909d71ad-9822-43a4-df7f-b8d1fe0b670d"
      },
      "execution_count": 9,
      "outputs": [
        {
          "output_type": "execute_result",
          "data": {
            "text/plain": [
              "<function Tensor.dim>"
            ]
          },
          "metadata": {},
          "execution_count": 9
        }
      ]
    }
  ]
}