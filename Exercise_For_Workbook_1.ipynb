{
  "nbformat": 4,
  "nbformat_minor": 0,
  "metadata": {
    "colab": {
      "provenance": []
    },
    "kernelspec": {
      "name": "python3",
      "display_name": "Python 3"
    },
    "language_info": {
      "name": "python"
    }
  },
  "cells": [
    {
      "cell_type": "markdown",
      "source": [
        "**Exercise**\n",
        "INput: Given a 1d list and 2d numpy array\n",
        "make 4 functons:\n",
        "\n",
        "* returns the 1d list as tensors\n",
        "* returns the numpy array as tensors\n",
        "* returns a tensor of shape 3x4\n",
        "* returns a tensor of shape 4x5 with all values as 5\n",
        "\n",
        "\n"
      ],
      "metadata": {
        "id": "hOuCAaXdM0_O"
      }
    },
    {
      "cell_type": "code",
      "source": [
        "import torch"
      ],
      "metadata": {
        "id": "fqJVmFa8OY7e"
      },
      "execution_count": null,
      "outputs": []
    },
    {
      "cell_type": "code",
      "source": [
        "\n",
        "import numpy as np\n",
        "\n",
        "def for_list(A):\n",
        "  return torch.tensor(A)\n",
        "\n",
        "def for_array(A):\n",
        "  return torch.tensor(A)\n",
        "\n",
        "def func1():\n",
        "  ten1=torch.ones(3,4)\n",
        "  return ten1\n",
        "\n",
        "def func2():\n",
        "  ten1=torch.zeros(4,5)\n",
        "  ten1=torch.full_like(ten1, 5)\n",
        "  return ten1\n",
        "\n",
        "\n",
        "\n",
        "\n",
        "\n",
        "A=[(1,2,3),(1,2,3)]\n",
        "B=np.array([[1,2,3],[1,2,3]])\n",
        "ten1=for_list(A)\n",
        "print(ten1)\n",
        "ten2=for_array(B)\n",
        "print(ten2)\n",
        "ten3=func1()\n",
        "print(ten3)\n",
        "ten4=func2()\n",
        "print(ten4)"
      ],
      "metadata": {
        "colab": {
          "base_uri": "https://localhost:8080/"
        },
        "id": "MsF0loq7NGVc",
        "outputId": "6a601f91-b4ba-4ba6-a10e-d098a0ee4e47"
      },
      "execution_count": 4,
      "outputs": [
        {
          "output_type": "stream",
          "name": "stdout",
          "text": [
            "tensor([[1, 2, 3],\n",
            "        [1, 2, 3]])\n",
            "tensor([[1, 2, 3],\n",
            "        [1, 2, 3]])\n",
            "tensor([[1., 1., 1., 1.],\n",
            "        [1., 1., 1., 1.],\n",
            "        [1., 1., 1., 1.]])\n",
            "tensor([[5., 5., 5., 5., 5.],\n",
            "        [5., 5., 5., 5., 5.],\n",
            "        [5., 5., 5., 5., 5.],\n",
            "        [5., 5., 5., 5., 5.]])\n"
          ]
        }
      ]
    }
  ]
}