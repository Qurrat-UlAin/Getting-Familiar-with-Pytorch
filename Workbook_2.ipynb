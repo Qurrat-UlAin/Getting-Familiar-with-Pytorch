{
  "nbformat": 4,
  "nbformat_minor": 0,
  "metadata": {
    "colab": {
      "provenance": []
    },
    "kernelspec": {
      "name": "python3",
      "display_name": "Python 3"
    },
    "language_info": {
      "name": "python"
    }
  },
  "cells": [
    {
      "cell_type": "code",
      "source": [
        "import torch\n",
        "\n",
        "import numpy as np"
      ],
      "metadata": {
        "id": "fqJVmFa8OY7e"
      },
      "execution_count": 1,
      "outputs": []
    },
    {
      "cell_type": "markdown",
      "source": [
        "Workin with slicing"
      ],
      "metadata": {
        "id": "KSuURXT0VPgU"
      }
    },
    {
      "cell_type": "code",
      "source": [
        "ten1= torch.tensor([1,2,3,4,5,6,7,8])\n",
        "print(ten1)\n",
        "print(ten1[4])   #at position 4, we have the element 5, it si returned as tensor\n",
        "print(ten1[2].item())  #the element at position 2 is returned as a number"
      ],
      "metadata": {
        "colab": {
          "base_uri": "https://localhost:8080/"
        },
        "id": "MsF0loq7NGVc",
        "outputId": "3c5ecec0-f5b6-4818-9fa0-50778ad17045"
      },
      "execution_count": 2,
      "outputs": [
        {
          "output_type": "stream",
          "name": "stdout",
          "text": [
            "tensor([1, 2, 3, 4, 5, 6, 7, 8])\n",
            "tensor(5)\n",
            "3\n"
          ]
        }
      ]
    },
    {
      "cell_type": "code",
      "source": [
        "print(ten1[2:5]) #index slicing simple"
      ],
      "metadata": {
        "colab": {
          "base_uri": "https://localhost:8080/"
        },
        "id": "Dbh3dB42TVMe",
        "outputId": "f597cdc7-db6c-43b7-f594-464670c6a9f5"
      },
      "execution_count": 3,
      "outputs": [
        {
          "output_type": "stream",
          "name": "stdout",
          "text": [
            "tensor([3, 4, 5])\n"
          ]
        }
      ]
    },
    {
      "cell_type": "code",
      "source": [
        "ten2= torch.tensor([[1,2,3,4],[5,6,7,8],[9,10,11,12],[13,14,15,16]])\n",
        "ten2[0,0:3]  #1st row, 0th, 1st, 2nd element"
      ],
      "metadata": {
        "colab": {
          "base_uri": "https://localhost:8080/"
        },
        "id": "YchzeIS9Thwd",
        "outputId": "3955deee-b7c7-4c6b-9f92-ef6810830229"
      },
      "execution_count": 4,
      "outputs": [
        {
          "output_type": "execute_result",
          "data": {
            "text/plain": [
              "tensor([1, 2, 3])"
            ]
          },
          "metadata": {},
          "execution_count": 4
        }
      ]
    },
    {
      "cell_type": "code",
      "source": [
        "ten2[ten2<10]"
      ],
      "metadata": {
        "colab": {
          "base_uri": "https://localhost:8080/"
        },
        "id": "RzNiFFKAVXhx",
        "outputId": "8578e855-71f6-4b01-de50-ef2be6ce506a"
      },
      "execution_count": 5,
      "outputs": [
        {
          "output_type": "execute_result",
          "data": {
            "text/plain": [
              "tensor([1, 2, 3, 4, 5, 6, 7, 8, 9])"
            ]
          },
          "metadata": {},
          "execution_count": 5
        }
      ]
    },
    {
      "cell_type": "code",
      "source": [
        "torch.stack((ten2,ten2))  #resulting tensor has an additional dimension as compared to the og"
      ],
      "metadata": {
        "colab": {
          "base_uri": "https://localhost:8080/"
        },
        "id": "Hr_G4XLRVbBr",
        "outputId": "182f8d95-82b3-40f4-8828-b7d19b500665"
      },
      "execution_count": 6,
      "outputs": [
        {
          "output_type": "execute_result",
          "data": {
            "text/plain": [
              "tensor([[[ 1,  2,  3,  4],\n",
              "         [ 5,  6,  7,  8],\n",
              "         [ 9, 10, 11, 12],\n",
              "         [13, 14, 15, 16]],\n",
              "\n",
              "        [[ 1,  2,  3,  4],\n",
              "         [ 5,  6,  7,  8],\n",
              "         [ 9, 10, 11, 12],\n",
              "         [13, 14, 15, 16]]])"
            ]
          },
          "metadata": {},
          "execution_count": 6
        }
      ]
    },
    {
      "cell_type": "code",
      "source": [
        "t1,t2,t3,t4=torch.unbind(ten2)   #the og tensor has been broken into mini tensors\n",
        "print(t1)\n",
        "print(t2)\n",
        "print(t3)\n",
        "print(t4)"
      ],
      "metadata": {
        "colab": {
          "base_uri": "https://localhost:8080/"
        },
        "id": "dP15OMYnVnq2",
        "outputId": "870bfd4c-782b-48d2-a521-f90b484eca60"
      },
      "execution_count": 7,
      "outputs": [
        {
          "output_type": "stream",
          "name": "stdout",
          "text": [
            "tensor([1, 2, 3, 4])\n",
            "tensor([5, 6, 7, 8])\n",
            "tensor([ 9, 10, 11, 12])\n",
            "tensor([13, 14, 15, 16])\n"
          ]
        }
      ]
    },
    {
      "cell_type": "markdown",
      "source": [
        "MATHSSSSSSS"
      ],
      "metadata": {
        "id": "TKdSmKhVXKb-"
      }
    },
    {
      "cell_type": "code",
      "source": [
        "#Basic Maths\n",
        "t1=torch.tensor([1,2,3])\n",
        "t2=torch.tensor([5,4,3])\n",
        "t3=t1.add(t2)\n",
        "t4=t2.sub(t1)\n",
        "t5=t1.sub(t2)\n",
        "t6=t1.mul(t2)\n",
        "t7=t1.div(t2)\n",
        "t8=t2.div(t1)\n",
        "print(\"tensor1:\")\n",
        "print(t1)\n",
        "print(\"tensor2:\")\n",
        "print(t2)\n",
        "print(\"tensor3:\")\n",
        "print(t3)\n",
        "print(\"tensor4:\")\n",
        "print(t4)\n",
        "print(\"tensor5:\")\n",
        "print(t5)\n",
        "print(\"tensor6:\")\n",
        "print(t6)\n",
        "print(\"tensor7:\")\n",
        "print(t7)\n",
        "print(\"tensor8:\")\n",
        "print(t8)"
      ],
      "metadata": {
        "colab": {
          "base_uri": "https://localhost:8080/"
        },
        "id": "UD_uM-1KXJ0e",
        "outputId": "3d9c98d5-f0c4-488e-a587-c8a745f49821"
      },
      "execution_count": 8,
      "outputs": [
        {
          "output_type": "stream",
          "name": "stdout",
          "text": [
            "tensor1:\n",
            "tensor([1, 2, 3])\n",
            "tensor2:\n",
            "tensor([5, 4, 3])\n",
            "tensor3:\n",
            "tensor([6, 6, 6])\n",
            "tensor4:\n",
            "tensor([4, 2, 0])\n",
            "tensor5:\n",
            "tensor([-4, -2,  0])\n",
            "tensor6:\n",
            "tensor([5, 8, 9])\n",
            "tensor7:\n",
            "tensor([0.2000, 0.5000, 1.0000])\n",
            "tensor8:\n",
            "tensor([5., 2., 1.])\n"
          ]
        }
      ]
    },
    {
      "cell_type": "code",
      "source": [
        "#Reduction functions"
      ],
      "metadata": {
        "id": "5UO2AVrDmtVD"
      },
      "execution_count": 9,
      "outputs": []
    },
    {
      "cell_type": "code",
      "source": [
        "ten2=torch.tensor([[1,1,1],[2,2,2],[3,3,3]])\n",
        "ten2=ten2.float()\n",
        "t21=torch.mean(ten2) #i was getting an error that ten2 was of type long and mean() needed a dtype of complex or float\n",
        "t22=torch.mode(ten2)\n",
        "t23=torch.median(ten2)\n",
        "t24=torch.std(ten2)\n",
        "print(t21)\n",
        "print(t22)\n",
        "print(t23)\n",
        "print(t24)\n"
      ],
      "metadata": {
        "colab": {
          "base_uri": "https://localhost:8080/"
        },
        "id": "AII3itHbmiHK",
        "outputId": "669cc33c-b265-4912-e2ae-70228272ddc8"
      },
      "execution_count": 13,
      "outputs": [
        {
          "output_type": "stream",
          "name": "stdout",
          "text": [
            "tensor(2.)\n",
            "torch.return_types.mode(\n",
            "values=tensor([1., 2., 3.]),\n",
            "indices=tensor([2, 2, 2]))\n",
            "tensor(2.)\n",
            "tensor(0.8660)\n"
          ]
        }
      ]
    },
    {
      "cell_type": "markdown",
      "source": [
        "Linear Algebra"
      ],
      "metadata": {
        "id": "ajfwTkc7pQ7W"
      }
    },
    {
      "cell_type": "code",
      "source": [
        "ten1=torch.tensor([1,2,3])\n",
        "ten2=torch.tensor([4,5,6])\n",
        "ten3= torch.matmul(ten1, ten2) #simple dot product\n",
        "print(ten3)"
      ],
      "metadata": {
        "colab": {
          "base_uri": "https://localhost:8080/"
        },
        "id": "-ceFL2Cqo7rW",
        "outputId": "de054e87-4847-4c78-fe48-113b777afd65"
      },
      "execution_count": 14,
      "outputs": [
        {
          "output_type": "stream",
          "name": "stdout",
          "text": [
            "tensor(32)\n"
          ]
        }
      ]
    },
    {
      "cell_type": "code",
      "source": [
        "ten1=torch.tensor([[1,2],[5,6]])\n",
        "ten2=torch.tensor([[4,6],[7,9]])\n",
        "ten3= torch.matmul(ten1, ten2) #simple dot product\n",
        "print(ten3)"
      ],
      "metadata": {
        "colab": {
          "base_uri": "https://localhost:8080/"
        },
        "id": "bXdkh3ZGpn4y",
        "outputId": "e3ba8976-32b8-4425-fe3b-ae485fee0422"
      },
      "execution_count": 16,
      "outputs": [
        {
          "output_type": "stream",
          "name": "stdout",
          "text": [
            "tensor([[18, 24],\n",
            "        [62, 84]])\n"
          ]
        }
      ]
    },
    {
      "cell_type": "code",
      "source": [
        "#computing\n",
        "ten1=torch.tensor([[1,2],[5,6],[3,2]])\n",
        "ten2=torch.tensor([[4,6],[7,9]])\n",
        "torch.linalg.multi_dot((ten1, ten2)) #simple dot product\n"
      ],
      "metadata": {
        "colab": {
          "base_uri": "https://localhost:8080/"
        },
        "id": "c5fiuGfyp-r4",
        "outputId": "b39ebbd5-a3d3-4d35-9e71-98b2fc023146"
      },
      "execution_count": 19,
      "outputs": [
        {
          "output_type": "execute_result",
          "data": {
            "text/plain": [
              "tensor([[18, 24],\n",
              "        [62, 84],\n",
              "        [26, 36]])"
            ]
          },
          "metadata": {},
          "execution_count": 19
        }
      ]
    },
    {
      "cell_type": "code",
      "source": [],
      "metadata": {
        "id": "k2cCXtQ6rUZD"
      },
      "execution_count": null,
      "outputs": []
    },
    {
      "cell_type": "markdown",
      "source": [
        "torch.matmul is a function for matrix multiplication. It can handle both matrix-matrix and matrix-vector multiplications, but it only takes two matrices or tensors at a time.\n",
        "\n",
        "torch.linalg.multi_dot is used for multiplying multiple matrices together in an optimal order to minimize computational cost."
      ],
      "metadata": {
        "id": "riDU9WedrNUD"
      }
    },
    {
      "cell_type": "code",
      "source": [
        "#AUTOMATIC DIFFERENTIATION - AUTOGRAD\n",
        "x=torch.autograd.Variable(torch.tensor([2.0]), requires_grad=True)\n",
        "y=torch.autograd.Variable(torch.tensor([1.0]), requires_grad=True)\n",
        "z=torch.autograd.Variable(torch.tensor([5.0]), requires_grad=True)\n",
        "\n",
        "a=x-y\n",
        "f=z*a\n",
        "print(\"Final vlaue of f: \" ,f)\n",
        "f.backward()\n",
        "print(\"Grdaient of x: \", x.grad)\n",
        "print(\"Grdaient of y: \", y.grad)\n",
        "print(\"Grdaient of z: \", z.grad)"
      ],
      "metadata": {
        "colab": {
          "base_uri": "https://localhost:8080/"
        },
        "id": "N2KldbdDrVir",
        "outputId": "64cb34b3-bd0d-44e5-d230-6d9eb64e1321"
      },
      "execution_count": 22,
      "outputs": [
        {
          "output_type": "stream",
          "name": "stdout",
          "text": [
            "Final vlaue of f:  tensor([5.], grad_fn=<MulBackward0>)\n",
            "Grdaient of x:  tensor([5.])\n",
            "Grdaient of y:  tensor([-5.])\n",
            "Grdaient of z:  tensor([1.])\n"
          ]
        }
      ]
    },
    {
      "cell_type": "code",
      "source": [],
      "metadata": {
        "id": "BvplHmgRt68-"
      },
      "execution_count": null,
      "outputs": []
    }
  ]
}