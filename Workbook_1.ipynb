{
  "nbformat": 4,
  "nbformat_minor": 0,
  "metadata": {
    "colab": {
      "provenance": [],
      "gpuType": "T4"
    },
    "kernelspec": {
      "name": "python3",
      "display_name": "Python 3"
    },
    "language_info": {
      "name": "python"
    },
    "accelerator": "GPU"
  },
  "cells": [
    {
      "cell_type": "code",
      "source": [
        "import torch\n",
        "print(torch.__version__)\n",
        "print(torch.cuda.is_available())"
      ],
      "metadata": {
        "colab": {
          "base_uri": "https://localhost:8080/"
        },
        "id": "mKsJTCRPMkKu",
        "outputId": "d9b8027c-f6b8-4217-cd7a-dfb1af96dee5"
      },
      "execution_count": 1,
      "outputs": [
        {
          "output_type": "stream",
          "name": "stdout",
          "text": [
            "2.3.0+cu121\n",
            "True\n"
          ]
        }
      ]
    },
    {
      "cell_type": "markdown",
      "source": [
        "INitializng a tensor with various types"
      ],
      "metadata": {
        "id": "tsP31AsuFgj_"
      }
    },
    {
      "cell_type": "code",
      "source": [
        "ftens=torch.tensor(([1,2,3],[4,5,6]))\n",
        "stens=torch.tensor(([1,2,3],[4,5,6]))\n",
        "\n",
        "atens=ftens+stens\n",
        "print(atens)"
      ],
      "metadata": {
        "colab": {
          "base_uri": "https://localhost:8080/"
        },
        "id": "ImUl9S2GQ5mh",
        "outputId": "fecab9ea-b9df-497e-98c3-ac9838217159"
      },
      "execution_count": 2,
      "outputs": [
        {
          "output_type": "stream",
          "name": "stdout",
          "text": [
            "tensor([[ 2,  4,  6],\n",
            "        [ 8, 10, 12]])\n"
          ]
        }
      ]
    },
    {
      "cell_type": "code",
      "source": [
        "sstens=ftens-stens\n",
        "print(sstens)"
      ],
      "metadata": {
        "colab": {
          "base_uri": "https://localhost:8080/"
        },
        "id": "jb1WBkMwT4oH",
        "outputId": "66e9619a-0499-4a1c-a447-30c8d317d5ba"
      },
      "execution_count": 3,
      "outputs": [
        {
          "output_type": "stream",
          "name": "stdout",
          "text": [
            "tensor([[0, 0, 0],\n",
            "        [0, 0, 0]])\n"
          ]
        }
      ]
    },
    {
      "cell_type": "code",
      "source": [
        "print(sstens.size())"
      ],
      "metadata": {
        "colab": {
          "base_uri": "https://localhost:8080/"
        },
        "id": "3a4SbPbaUBbm",
        "outputId": "48f94e58-3a37-49f8-c145-603dae550966"
      },
      "execution_count": 4,
      "outputs": [
        {
          "output_type": "stream",
          "name": "stdout",
          "text": [
            "torch.Size([2, 3])\n"
          ]
        }
      ]
    },
    {
      "cell_type": "code",
      "source": [
        "import numpy as np\n"
      ],
      "metadata": {
        "id": "nf4Q6k4k8G7X"
      },
      "execution_count": 5,
      "outputs": []
    },
    {
      "cell_type": "code",
      "source": [
        "list_ten=torch.tensor([1,2,3])\n",
        "tup_ten=torch.tensor((1,2,3))\n",
        "array_ten=torch.tensor(np.array([1,2,3]))\n",
        "print(tup_ten)\n",
        "print(list_ten)\n",
        "print(array_ten)  #initilaizng a tensors and creating a tensore, the shape is 1D and the data assigned is given"
      ],
      "metadata": {
        "colab": {
          "base_uri": "https://localhost:8080/"
        },
        "id": "jlqKwOsw_SbX",
        "outputId": "5c71815a-261c-40d8-9d2e-9c6b72fd74c6"
      },
      "execution_count": 7,
      "outputs": [
        {
          "output_type": "stream",
          "name": "stdout",
          "text": [
            "tensor([1, 2, 3])\n",
            "tensor([1, 2, 3])\n",
            "tensor([1, 2, 3])\n"
          ]
        }
      ]
    },
    {
      "cell_type": "code",
      "source": [
        "##creating a tensoor of speciifc shape, (1,2,3) means a 3 dimensional tensor\n",
        "#(1,2) means 2D tensor with 1 row, 2 column\n",
        "#.zero initialzied all values as zero, .ones as 1 and .empty as random\n",
        "ten1=torch.empty(1,2,3)\n",
        "ten2=torch.zeros(1)\n",
        "ten3=torch.ones(1,2)\n",
        "print(ten1)\n",
        "print(ten2)\n",
        "print(ten3)"
      ],
      "metadata": {
        "colab": {
          "base_uri": "https://localhost:8080/"
        },
        "id": "GqhvVL5O_5rw",
        "outputId": "dfe34bf1-3573-4bc0-e32e-18ef0a666b0a"
      },
      "execution_count": 13,
      "outputs": [
        {
          "output_type": "stream",
          "name": "stdout",
          "text": [
            "tensor([[[ 7.8596e+16,  4.4046e-41, -5.0763e-26],\n",
            "         [ 3.0646e-41,  4.4842e-44,  0.0000e+00]]])\n",
            "tensor([0.])\n",
            "tensor([[1., 1.]])\n"
          ]
        }
      ]
    },
    {
      "cell_type": "code",
      "source": [
        "import random as rd"
      ],
      "metadata": {
        "id": "cY9gnv1QC1CG"
      },
      "execution_count": 14,
      "outputs": []
    },
    {
      "cell_type": "code",
      "source": [
        "ten4=torch.rand(2,3)  #initlaze random values from in between 0 to 1\n",
        "ten5=torch.randn(2)   #initilaaze random value from a normal distribution (mean = 0, standard deviation = 1).\n",
        "ten6=torch.randint(0,4,(2,2)) #(low, high, size )\n",
        "print(ten4)\n",
        "print(ten5)\n",
        "print(ten6)"
      ],
      "metadata": {
        "colab": {
          "base_uri": "https://localhost:8080/"
        },
        "id": "97N9NcelCa3K",
        "outputId": "dd1fb8e4-83ac-4b56-81da-5b97250a367a"
      },
      "execution_count": 18,
      "outputs": [
        {
          "output_type": "stream",
          "name": "stdout",
          "text": [
            "tensor([[0.3040, 0.0855, 0.2620],\n",
            "        [0.4168, 0.3657, 0.6159]])\n",
            "tensor([-0.3124,  0.1982])\n",
            "tensor([[2, 1],\n",
            "        [2, 2]])\n"
          ]
        }
      ]
    },
    {
      "cell_type": "code",
      "source": [
        "ten7=torch.ones_like(ten1)\n",
        "print(ten7)"
      ],
      "metadata": {
        "colab": {
          "base_uri": "https://localhost:8080/"
        },
        "id": "No_vCfhmE5ib",
        "outputId": "de6c7ba4-2066-4c31-fab5-93e402a72e04"
      },
      "execution_count": 19,
      "outputs": [
        {
          "output_type": "stream",
          "name": "stdout",
          "text": [
            "tensor([[1., 1., 1.],\n",
            "        [1., 1., 1.]])\n"
          ]
        }
      ]
    },
    {
      "cell_type": "markdown",
      "source": [
        "Tensor Attributes"
      ],
      "metadata": {
        "id": "it7U7sLGFPtf"
      }
    },
    {
      "cell_type": "code",
      "source": [
        "ten1.device  #to know wether the tensor is on cpu or gpu"
      ],
      "metadata": {
        "colab": {
          "base_uri": "https://localhost:8080/"
        },
        "id": "G-XA0AEXFKKs",
        "outputId": "d496cd01-5f79-4552-d6f1-0e7eb5f0a3c7"
      },
      "execution_count": 20,
      "outputs": [
        {
          "output_type": "execute_result",
          "data": {
            "text/plain": [
              "device(type='cpu')"
            ]
          },
          "metadata": {},
          "execution_count": 20
        }
      ]
    },
    {
      "cell_type": "code",
      "source": [
        "ten2.dtype  #to know the datatype"
      ],
      "metadata": {
        "colab": {
          "base_uri": "https://localhost:8080/"
        },
        "id": "DLO08jwzFtR9",
        "outputId": "4a0d4fcc-983d-4a4a-ee43-88e613974a86"
      },
      "execution_count": 21,
      "outputs": [
        {
          "output_type": "execute_result",
          "data": {
            "text/plain": [
              "torch.float32"
            ]
          },
          "metadata": {},
          "execution_count": 21
        }
      ]
    },
    {
      "cell_type": "code",
      "source": [
        "ten3.shape  #to know shape"
      ],
      "metadata": {
        "colab": {
          "base_uri": "https://localhost:8080/"
        },
        "id": "vjZ2yWYzF0TT",
        "outputId": "f56b9347-9a05-4637-c41e-26f6fc30c98b"
      },
      "execution_count": 22,
      "outputs": [
        {
          "output_type": "execute_result",
          "data": {
            "text/plain": [
              "torch.Size([2, 2])"
            ]
          },
          "metadata": {},
          "execution_count": 22
        }
      ]
    },
    {
      "cell_type": "code",
      "source": [
        "ten4.ndim #to find out dimension"
      ],
      "metadata": {
        "colab": {
          "base_uri": "https://localhost:8080/"
        },
        "id": "ASmiwijXF7NX",
        "outputId": "c21e520b-d813-473e-f3b0-d0525f18f475"
      },
      "execution_count": 23,
      "outputs": [
        {
          "output_type": "execute_result",
          "data": {
            "text/plain": [
              "2"
            ]
          },
          "metadata": {},
          "execution_count": 23
        }
      ]
    },
    {
      "cell_type": "markdown",
      "source": [
        "**Tensor Data Types**"
      ],
      "metadata": {
        "id": "uSFBfBc5Gn62"
      }
    },
    {
      "cell_type": "code",
      "source": [
        "ten8=torch.tensor([1,2,3,4,5],dtype=torch.int8)\n",
        "ten8.dtype"
      ],
      "metadata": {
        "colab": {
          "base_uri": "https://localhost:8080/"
        },
        "id": "E-_vKTp2GCEa",
        "outputId": "c777fb45-f19f-405c-b161-b0b2217752e2"
      },
      "execution_count": 24,
      "outputs": [
        {
          "output_type": "execute_result",
          "data": {
            "text/plain": [
              "torch.int8"
            ]
          },
          "metadata": {},
          "execution_count": 24
        }
      ]
    },
    {
      "cell_type": "code",
      "source": [
        "ten9=torch.tensor([1,2,3,4,5],dtype=torch.float32)\n",
        "ten9.dtype"
      ],
      "metadata": {
        "colab": {
          "base_uri": "https://localhost:8080/"
        },
        "id": "JSXZH1ekHB8p",
        "outputId": "e7773873-51d0-4915-a9f9-f6ac4f11049f"
      },
      "execution_count": 25,
      "outputs": [
        {
          "output_type": "execute_result",
          "data": {
            "text/plain": [
              "torch.float32"
            ]
          },
          "metadata": {},
          "execution_count": 25
        }
      ]
    },
    {
      "cell_type": "code",
      "source": [
        "ten10=torch.tensor([1,2,3,4,5],dtype=torch.int16)\n",
        "ten10.dtype"
      ],
      "metadata": {
        "colab": {
          "base_uri": "https://localhost:8080/"
        },
        "id": "XiRRtuPdHR4u",
        "outputId": "54f3cbe8-b185-4b98-dcf2-5c2c14217ad6"
      },
      "execution_count": 26,
      "outputs": [
        {
          "output_type": "execute_result",
          "data": {
            "text/plain": [
              "torch.int16"
            ]
          },
          "metadata": {},
          "execution_count": 26
        }
      ]
    },
    {
      "cell_type": "code",
      "source": [
        "#type casting\n",
        "ten11=torch.tensor([1,2,3,4,5],dtype=torch.int8)\n",
        "ten11=ten11.float()   #int() to ocnvert to int\n",
        "ten11.dtype"
      ],
      "metadata": {
        "colab": {
          "base_uri": "https://localhost:8080/"
        },
        "id": "mpWhSl9jHWuz",
        "outputId": "f4101893-2fae-4f95-9e5f-dc573f14862e"
      },
      "execution_count": 30,
      "outputs": [
        {
          "output_type": "execute_result",
          "data": {
            "text/plain": [
              "torch.float32"
            ]
          },
          "metadata": {},
          "execution_count": 30
        }
      ]
    },
    {
      "cell_type": "markdown",
      "source": [
        "CReating tensors from random samples"
      ],
      "metadata": {
        "id": "TWjWGRvKH-BO"
      }
    },
    {
      "cell_type": "code",
      "source": [
        "torch.rand(2,2) #creates random values on every run"
      ],
      "metadata": {
        "colab": {
          "base_uri": "https://localhost:8080/"
        },
        "id": "LFZt6ywlHtNj",
        "outputId": "fbbebdfc-bd41-4eb4-ecc2-d8aa51adab2c"
      },
      "execution_count": 32,
      "outputs": [
        {
          "output_type": "execute_result",
          "data": {
            "text/plain": [
              "tensor([[0.4094, 0.0333],\n",
              "        [0.5116, 0.6010]])"
            ]
          },
          "metadata": {},
          "execution_count": 32
        }
      ]
    },
    {
      "cell_type": "code",
      "source": [
        "#for static-ing the random values geenrated we will:\n",
        "torch.manual_seed(111)\n",
        "torch.rand(2,2)"
      ],
      "metadata": {
        "colab": {
          "base_uri": "https://localhost:8080/"
        },
        "id": "yjuCNCeMIKuM",
        "outputId": "1d9680bf-7b9a-4961-83f1-c2ddea8a174f"
      },
      "execution_count": 36,
      "outputs": [
        {
          "output_type": "execute_result",
          "data": {
            "text/plain": [
              "tensor([[0.7156, 0.9140],\n",
              "        [0.2819, 0.2581]])"
            ]
          },
          "metadata": {},
          "execution_count": 36
        }
      ]
    },
    {
      "cell_type": "code",
      "source": [
        "#creating a tensor LIKE OTHER tensors\n",
        "#.ones_like(tensor to copy)  all values ar einitilaized to 1 but the shape remains same\n",
        "#.full_like(tensor to coy, int)  shape is same as the tensor we wanna copy but the values are of integer which we have clairified\n",
        "#"
      ],
      "metadata": {
        "id": "OGIw9nNoIozb"
      },
      "execution_count": 37,
      "outputs": []
    },
    {
      "cell_type": "code",
      "source": [],
      "metadata": {
        "id": "ZTo08PEZJggM"
      },
      "execution_count": null,
      "outputs": []
    }
  ]
}